{
  "metadata": {
    "kernelspec": {
      "name": "python",
      "display_name": "Pyolite",
      "language": "python"
    },
    "language_info": {
      "codemirror_mode": {
        "name": "python",
        "version": 3
      },
      "file_extension": ".py",
      "mimetype": "text/x-python",
      "name": "python",
      "nbconvert_exporter": "python",
      "pygments_lexer": "ipython3",
      "version": "3.8"
    }
  },
  "nbformat_minor": 4,
  "nbformat": 4,
  "cells": [
    {
      "cell_type": "markdown",
      "source": "<center>\n    <img src=\"https://s3-api.us-geo.objectstorage.softlayer.net/cf-courses-data/CognitiveClass/Logos/organization_logo/organization_logo.png\" width=\"300\" alt=\"cognitiveclass.ai logo\"  />\n</center>\n",
      "metadata": {}
    },
    {
      "cell_type": "markdown",
      "source": "#### Add your code below following the instructions given in the course\n",
      "metadata": {}
    },
    {
      "cell_type": "markdown",
      "source": "# My Jupyter Notebook on IBM Watson Studio",
      "metadata": {}
    },
    {
      "cell_type": "markdown",
      "source": "**Cairo Mendes Sobrinho**, Data analist",
      "metadata": {}
    },
    {
      "cell_type": "markdown",
      "source": "*I am interested in data science because it is a way to create new solutions to the world based on data. When we use data to make decisions we lower the risk of bad results.*",
      "metadata": {}
    },
    {
      "cell_type": "markdown",
      "source": "### I will write a code that performs a simple sum and then print the result in the screen.",
      "metadata": {}
    },
    {
      "cell_type": "code",
      "source": "exampleSum = 2 + 5\nprint(exampleSum)",
      "metadata": {
        "trusted": true
      },
      "execution_count": 7,
      "outputs": [
        {
          "name": "stdout",
          "text": "7\n",
          "output_type": "stream"
        }
      ]
    },
    {
      "cell_type": "markdown",
      "source": "Explaining what I did:\n***\n> - created a variable called exampleSum.\n> - In the same line, I assigned the value 2+5 (7) to it.\n> - Next line I used a Python built-in function to print the value of the variable in the user screen.\n***\nFor more information about how to use markdown, visit: [MarkdownGuide](https://www.markdownguide.org/basic-syntax).",
      "metadata": {}
    }
  ]
}